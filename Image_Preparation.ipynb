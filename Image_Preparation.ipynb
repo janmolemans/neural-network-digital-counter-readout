{
 "cells": [
  {
   "cell_type": "markdown",
   "metadata": {},
   "source": [
    "# Image preparation\n",
    "\n",
    "The original image size is 55x90 pixels with a color depth of 3 (RGB).\n",
    "The below code can be used to transform the images in an input directory (Input_dir) to the right size (20x32 pixels) into an output directory (Output_dir). Inside the directory the pictures are stored in subdirectories according their labeling (0 ... 9 + NaN).\n",
    "Any other image converter can be used as well.\n",
    "\n",
    "### Prerequisite\n",
    "Installed OpenCV libary within python (opencv)"
   ]
  },
  {
   "cell_type": "code",
   "execution_count": 12,
   "metadata": {},
   "outputs": [],
   "source": [
    "import glob\n",
    "import os\n",
    "from PIL import Image \n",
    "import hashlib\n",
    "\n",
    "Input_dir = 'ziffer_sortiert_raw'\n",
    "Output_dir= 'ziffer_sortiert_resize'\n",
    "\n",
    "target_size_x = 20\n",
    "target_size_y = 32\n",
    "\n"
   ]
  },
  {
   "cell_type": "code",
   "execution_count": 13,
   "metadata": {},
   "outputs": [
    {
     "name": "stdout",
     "output_type": "stream",
     "text": [
      "1511 files have been deleted.\n"
     ]
    }
   ],
   "source": [
    "files = glob.glob(Output_dir + '/*.jpg')\n",
    "for f in files:\n",
    "    os.remove(f)\n",
    "print(str(len(files)) + \" files have been deleted.\")"
   ]
  },
  {
   "cell_type": "code",
   "execution_count": 14,
   "metadata": {},
   "outputs": [
    {
     "name": "stdout",
     "output_type": "stream",
     "text": [
      "0 ...\n",
      "250 ...\n"
     ]
    },
    {
     "name": "stderr",
     "output_type": "stream",
     "text": [
      "/tmp/ipykernel_710/481623328.py:17: DeprecationWarning: NEAREST is deprecated and will be removed in Pillow 10 (2023-07-01). Use Resampling.NEAREST or Dither.NONE instead.\n",
      "  test_image = test_image.resize((target_size_x, target_size_y), Image.NEAREST)\n"
     ]
    },
    {
     "name": "stdout",
     "output_type": "stream",
     "text": [
      "500 ...\n",
      "750 ...\n",
      "1000 ...\n",
      "1250 ...\n",
      "1500 ...\n",
      "1510\n"
     ]
    }
   ],
   "source": [
    "files = glob.glob(Input_dir + '/*.jpg')\n",
    "files = files + glob.glob(Input_dir + '/*.png')\n",
    "files = files + glob.glob(Input_dir + '/*.bmp')\n",
    "count = 0\n",
    "hashes={}\n",
    "\n",
    "for i,aktfile in enumerate(files):\n",
    "    if not i % 250:\n",
    "        print(str(i) + \" ...\")\n",
    "    test_image = Image.open(aktfile)\n",
    "    hash=hashlib.sha256(test_image.tobytes()).hexdigest()\n",
    "    if hash in hashes:\n",
    "        hashes[hash].append(aktfile)\n",
    "    else:\n",
    "        hashes[hash]=[aktfile]\n",
    "    test_image = test_image.convert('RGB')\n",
    "    test_image = test_image.resize((target_size_x, target_size_y), Image.NEAREST)\n",
    "    base=os.path.basename(aktfile)\n",
    "    base = os.path.splitext(base)[0] + \".jpg\"\n",
    "    save_name = Output_dir + '/' + base\n",
    "    test_image.save(save_name, \"JPEG\")\n",
    "print(i)"
   ]
  },
  {
   "cell_type": "code",
   "execution_count": 16,
   "metadata": {},
   "outputs": [
    {
     "name": "stdout",
     "output_type": "stream",
     "text": [
      "['ziffer_sortiert_raw/1_1_20220211.jpg', 'ziffer_sortiert_raw/1_1.jpg']\n",
      "['ziffer_sortiert_raw/7_dig6_20220106-171136.jpg', 'ziffer_sortiert_raw/7_dig6_20220106-171136 (2).jpg']\n",
      "['ziffer_sortiert_raw/NaN_Ziffer_NaN_1256.jpg', 'ziffer_sortiert_raw/NaN_Ziffer_NaN_1278.jpg', 'ziffer_sortiert_raw/NaN_Ziffer_NaN_1283.jpg', 'ziffer_sortiert_raw/NaN_Ziffer_NaN_1241.jpg', 'ziffer_sortiert_raw/NaN_Ziffer_NaN_1259.jpg', 'ziffer_sortiert_raw/NaN_Ziffer_NaN_1277.jpg', 'ziffer_sortiert_raw/NaN_Ziffer_NaN_1271.jpg']\n",
      "['ziffer_sortiert_raw/9_4.jpg', 'ziffer_sortiert_raw/9_41.jpg']\n",
      "['ziffer_sortiert_raw/7_dig5_20220106-034509.jpg', 'ziffer_sortiert_raw/7_dig5_20220106-034509 (2).jpg']\n",
      "['ziffer_sortiert_raw/7-1_6_20211231-120401.jpg', 'ziffer_sortiert_raw/7 -1_6_20211231-120401.jpg']\n",
      "['ziffer_sortiert_raw/3_31.jpg', 'ziffer_sortiert_raw/3_3.jpg']\n",
      "['ziffer_sortiert_raw/3_1.jpg', 'ziffer_sortiert_raw/3_11.jpg']\n",
      "['ziffer_sortiert_raw/3 -7_7_20211231-082402.jpg', 'ziffer_sortiert_raw/3-7_7_20211231-082402.jpg']\n",
      "['ziffer_sortiert_raw/2_2_20220211.jpg', 'ziffer_sortiert_raw/2_2.jpg']\n",
      "['ziffer_sortiert_raw/NaN_D8_2020-08-14_13-31-10.jpg', 'ziffer_sortiert_raw/NaN_D8_2020-08-14_13-31-10 - Kopie.jpg']\n",
      "['ziffer_sortiert_raw/7_1.jpg', 'ziffer_sortiert_raw/7_1_20220211.jpg']\n"
     ]
    }
   ],
   "source": [
    "# check for duplicates\n",
    "for hash in hashes:\n",
    "    if len(hashes[hash])>1:\n",
    "        print(hashes[hash])    \n",
    "        for duplicate in hashes[hash][1:]:\n",
    "            # remove all except the first\n",
    "            os.remove(duplicate)"
   ]
  }
 ],
 "metadata": {
  "kernelspec": {
   "display_name": "tf",
   "language": "python",
   "name": "python3"
  },
  "language_info": {
   "codemirror_mode": {
    "name": "ipython",
    "version": 3
   },
   "file_extension": ".py",
   "mimetype": "text/x-python",
   "name": "python",
   "nbconvert_exporter": "python",
   "pygments_lexer": "ipython3",
   "version": "3.9.15"
  },
  "vscode": {
   "interpreter": {
    "hash": "1db082dd5e3b2894b9d812fd2bac420e5d234dc0e0316cbff7a7f64b513f1157"
   }
  }
 },
 "nbformat": 4,
 "nbformat_minor": 2
}
